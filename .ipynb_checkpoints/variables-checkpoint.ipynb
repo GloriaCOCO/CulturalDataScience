{
 "cells": [
  {
   "cell_type": "markdown",
   "metadata": {},
   "source": [
    "# Variables and variable types\n",
    "\n",
    "## \"Regular\" variables\n",
    "\n",
    "1. strings\n",
    "1. integers\n",
    "1. floats\n",
    "\n",
    "## \"Collection\" variables\n",
    "\n",
    "1. tuples\n",
    "1. lists\n",
    "1. sets\n",
    "1. dictionaries\n",
    "\n",
    "From https://www.w3schools.com:\n",
    "\n",
    "- **Strings** are for storing text\n",
    "- **Integers** are for storing whole numbers, positive or negative (such as 123 or -456), without decimals.\n",
    "- **Floats** are for storing positive and negative numbers with a decimal point, like 35.3, or -2.34\n",
    "- **Lists** are collections which are ordered and changeable. Allows duplicate members.\n",
    "- **Tuples** are collections which are ordered and unchangeable. Allows duplicate members.\n",
    "- **Sets** are collections which are unordered, \"unchangeable\", and unindexed. No duplicate members.\n",
    "- **Dictionaries** are collections which are ordered and changeable. No duplicate members."
   ]
  },
  {
   "cell_type": "markdown",
   "metadata": {},
   "source": [
    "## Strings"
   ]
  },
  {
   "cell_type": "code",
   "execution_count": 1,
   "metadata": {},
   "outputs": [],
   "source": [
    "hello = \"hello world\"\n",
    "number_five = \"5\""
   ]
  },
  {
   "cell_type": "code",
   "execution_count": 2,
   "metadata": {},
   "outputs": [
    {
     "data": {
      "text/plain": [
       "'Hello World'"
      ]
     },
     "execution_count": 2,
     "metadata": {},
     "output_type": "execute_result"
    }
   ],
   "source": [
    "hello = hello.title()\n",
    "hello"
   ]
  },
  {
   "cell_type": "code",
   "execution_count": 3,
   "metadata": {},
   "outputs": [
    {
     "data": {
      "text/plain": [
       "['Hello', 'World']"
      ]
     },
     "execution_count": 3,
     "metadata": {},
     "output_type": "execute_result"
    }
   ],
   "source": [
    "hello.split()"
   ]
  },
  {
   "cell_type": "code",
   "execution_count": null,
   "metadata": {},
   "outputs": [],
   "source": []
  },
  {
   "cell_type": "markdown",
   "metadata": {},
   "source": [
    "## Integers"
   ]
  },
  {
   "cell_type": "code",
   "execution_count": 4,
   "metadata": {},
   "outputs": [],
   "source": [
    "myint = 78\n",
    "myotherint = -23"
   ]
  },
  {
   "cell_type": "raw",
   "metadata": {},
   "source": [
    "#dir(hello)"
   ]
  },
  {
   "cell_type": "markdown",
   "metadata": {},
   "source": [
    "## Floats"
   ]
  },
  {
   "cell_type": "code",
   "execution_count": 5,
   "metadata": {},
   "outputs": [],
   "source": [
    "myfloat = 345.78\n",
    "myothercoolfloat = -987324.2"
   ]
  },
  {
   "cell_type": "markdown",
   "metadata": {},
   "source": [
    "## Lists"
   ]
  },
  {
   "cell_type": "code",
   "execution_count": 6,
   "metadata": {},
   "outputs": [
    {
     "data": {
      "text/plain": [
       "[['oranges', 'pears', 'berries', 4], ['milk', 'ymer', 'cream']]"
      ]
     },
     "execution_count": 6,
     "metadata": {},
     "output_type": "execute_result"
    }
   ],
   "source": [
    "fruits = [\"oranges\", \"pears\", \"berries\", 4]\n",
    "fruits\n",
    "diary = [\"milk\", \"ymer\", 'cream']\n",
    "\n",
    "shopping = [fruits, diary] #make a list of lists\n",
    "shopping"
   ]
  },
  {
   "cell_type": "code",
   "execution_count": 7,
   "metadata": {},
   "outputs": [
    {
     "data": {
      "text/plain": [
       "['oranges', 'pears', 'berries', 4, 'milk', 'ymer', 'cream']"
      ]
     },
     "execution_count": 7,
     "metadata": {},
     "output_type": "execute_result"
    }
   ],
   "source": [
    "shopping2 = fruits + diary #merge lists together\n",
    "shopping2"
   ]
  },
  {
   "cell_type": "code",
   "execution_count": 8,
   "metadata": {},
   "outputs": [
    {
     "data": {
      "text/plain": [
       "'pears'"
      ]
     },
     "execution_count": 8,
     "metadata": {},
     "output_type": "execute_result"
    }
   ],
   "source": [
    "shopping[0][1] #from the first list choose second item"
   ]
  },
  {
   "cell_type": "code",
   "execution_count": 18,
   "metadata": {},
   "outputs": [
    {
     "data": {
      "text/plain": [
       "'berries'"
      ]
     },
     "execution_count": 18,
     "metadata": {},
     "output_type": "execute_result"
    }
   ],
   "source": [
    "fruits[1] #python counts from 0\n",
    "fruits[-1] #-1 is the last one apparently"
   ]
  },
  {
   "cell_type": "markdown",
   "metadata": {},
   "source": [
    "## Tuples"
   ]
  },
  {
   "cell_type": "code",
   "execution_count": 9,
   "metadata": {},
   "outputs": [],
   "source": [
    "fruittuple = ('apple', 'banana', 'cherry')\n",
    "#not possible: fruittuple [1] = 'kiwi' #as you cannot change a tupple"
   ]
  },
  {
   "cell_type": "markdown",
   "metadata": {},
   "source": [
    "## Sets"
   ]
  },
  {
   "cell_type": "code",
   "execution_count": 17,
   "metadata": {},
   "outputs": [
    {
     "data": {
      "text/plain": [
       "['oranges', 'pears', 'berries', 4, 'grapes', 'grapes', 'grapes', 'grapes']"
      ]
     },
     "execution_count": 17,
     "metadata": {},
     "output_type": "execute_result"
    }
   ],
   "source": [
    "fruits"
   ]
  },
  {
   "cell_type": "code",
   "execution_count": 15,
   "metadata": {},
   "outputs": [],
   "source": [
    "fruits.append('grapes')"
   ]
  },
  {
   "cell_type": "code",
   "execution_count": 16,
   "metadata": {},
   "outputs": [
    {
     "data": {
      "text/plain": [
       "{4, 'berries', 'grapes', 'oranges', 'pears'}"
      ]
     },
     "execution_count": 16,
     "metadata": {},
     "output_type": "execute_result"
    }
   ],
   "source": [
    "set(fruits) #if i eg have several grapes, then it only shows grape once, it shows the \"sets\"/unique items"
   ]
  },
  {
   "cell_type": "markdown",
   "metadata": {},
   "source": [
    "## Dictionaries"
   ]
  },
  {
   "cell_type": "code",
   "execution_count": 19,
   "metadata": {},
   "outputs": [
    {
     "data": {
      "text/plain": [
       "'Gloria'"
      ]
     },
     "execution_count": 19,
     "metadata": {},
     "output_type": "execute_result"
    }
   ],
   "source": [
    "dict = {'name': 'Gloria', \n",
    "        'Age': '104', \n",
    "        'me': 'meee'}\n",
    "\n",
    "dict['name']"
   ]
  },
  {
   "cell_type": "markdown",
   "metadata": {},
   "source": [
    "## Loops"
   ]
  },
  {
   "cell_type": "code",
   "execution_count": 22,
   "metadata": {},
   "outputs": [
    {
     "name": "stdout",
     "output_type": "stream",
     "text": [
      "0\n",
      "1\n",
      "2\n",
      "3\n",
      "4\n"
     ]
    }
   ],
   "source": [
    "for x in range(5):\n",
    "    print(x)"
   ]
  },
  {
   "cell_type": "code",
   "execution_count": 23,
   "metadata": {},
   "outputs": [
    {
     "name": "stdout",
     "output_type": "stream",
     "text": [
      "oranges\n",
      "pears\n",
      "berries\n",
      "4\n",
      "grapes\n",
      "grapes\n",
      "grapes\n",
      "grapes\n"
     ]
    }
   ],
   "source": [
    "for fruit in fruits: #variables can be anything, x, a, fruit etc\n",
    "    print(fruit)"
   ]
  },
  {
   "cell_type": "code",
   "execution_count": 24,
   "metadata": {},
   "outputs": [],
   "source": [
    "fruits[3]= 'cherry' #changing the number to be a fruit as we can't run the code below with an integer"
   ]
  },
  {
   "cell_type": "code",
   "execution_count": 25,
   "metadata": {},
   "outputs": [
    {
     "name": "stdout",
     "output_type": "stream",
     "text": [
      "I love oranges\n",
      "I love pears\n",
      "I love berries\n",
      "I love cherry\n",
      "I love grapes\n",
      "I love grapes\n",
      "I love grapes\n",
      "I love grapes\n"
     ]
    }
   ],
   "source": [
    "for fruit in fruits:\n",
    "    print('I love ' + fruit)"
   ]
  },
  {
   "cell_type": "code",
   "execution_count": 27,
   "metadata": {},
   "outputs": [
    {
     "data": {
      "text/plain": [
       "['I love oranges',\n",
       " 'I love pears',\n",
       " 'I love berries',\n",
       " 'I love cherry',\n",
       " 'I love grapes',\n",
       " 'I love grapes',\n",
       " 'I love grapes',\n",
       " 'I love grapes']"
      ]
     },
     "execution_count": 27,
     "metadata": {},
     "output_type": "execute_result"
    }
   ],
   "source": [
    "f = ['I love ' + x for x in fruits] #same but differently written\n",
    "f"
   ]
  },
  {
   "cell_type": "markdown",
   "metadata": {},
   "source": [
    "## Conditionals"
   ]
  },
  {
   "cell_type": "code",
   "execution_count": 29,
   "metadata": {},
   "outputs": [
    {
     "name": "stdout",
     "output_type": "stream",
     "text": [
      "I love pears\n"
     ]
    }
   ],
   "source": [
    "for fruit in fruits:\n",
    "    if fruit.startswith('p'): #choose only the ones that start with p\n",
    "        print('I love ' + fruit)"
   ]
  },
  {
   "cell_type": "code",
   "execution_count": 30,
   "metadata": {},
   "outputs": [
    {
     "name": "stdout",
     "output_type": "stream",
     "text": [
      "I love pears\n",
      "I love grapes\n",
      "I love grapes\n",
      "I love grapes\n",
      "I love grapes\n"
     ]
    }
   ],
   "source": [
    "for fruit in fruits:\n",
    "    if 'p' in fruit: #choose only the ones that include letter p\n",
    "        print('I love ' + fruit)"
   ]
  },
  {
   "cell_type": "code",
   "execution_count": 31,
   "metadata": {},
   "outputs": [
    {
     "name": "stdout",
     "output_type": "stream",
     "text": [
      "I love grapes\n",
      "I love grapes\n",
      "I love grapes\n",
      "I love grapes\n"
     ]
    }
   ],
   "source": [
    "for fruit in fruits:\n",
    "    if 'p' in fruit: #only if fruit starts with p it check if there's also a g\n",
    "            if 'g' in fruit:\n",
    "                print('I love ' + fruit)\n",
    "    "
   ]
  },
  {
   "cell_type": "code",
   "execution_count": 33,
   "metadata": {},
   "outputs": [],
   "source": [
    "MyFavFruits = []\n",
    "for fruit in fruits:\n",
    "    if 'p' in fruit: #only if fruit starts with p it check if there's also a g\n",
    "            if 'g' in fruit:\n",
    "                 MyFavFruits.append(x)"
   ]
  },
  {
   "cell_type": "code",
   "execution_count": null,
   "metadata": {},
   "outputs": [],
   "source": []
  }
 ],
 "metadata": {
  "kernelspec": {
   "display_name": "Python 3 ",
   "language": "python",
   "name": "python3"
  },
  "language_info": {
   "codemirror_mode": {
    "name": "ipython",
    "version": 3
   },
   "file_extension": ".py",
   "mimetype": "text/x-python",
   "name": "python",
   "nbconvert_exporter": "python",
   "pygments_lexer": "ipython3",
   "version": "3.10.14"
  }
 },
 "nbformat": 4,
 "nbformat_minor": 4
}

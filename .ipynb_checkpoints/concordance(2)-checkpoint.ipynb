{
 "cells": [
  {
   "cell_type": "markdown",
   "metadata": {},
   "source": [
    "# Build your own concordance\n",
    "\n",
    "It took 500 Dominican munks to write the first concordance of the Latin bible, and it took Rabbi Mordecai Nathan 10 years to write the first concordance of the Hebrew bible. With Python, it only takes a matter of seconds to find words in a text, along with the surrounding words.\n",
    "\n",
    "Run each cell in this notebook one at a time, in order. If something in one cell doesn't work right, it might be because you have overwritten a variable, so try going back and running all the previous cells again.\n",
    "\n",
    "First run the code and check that everything works. Then, try modifying the code. Start with the first challenges, and then continue in order. Feel free to work together, and see how far you can get. The important thing is to learn, not to solve all the challenges!"
   ]
  },
  {
   "cell_type": "code",
   "execution_count": 1,
   "metadata": {},
   "outputs": [
    {
     "name": "stdout",
     "output_type": "stream",
     "text": [
      "Collecting nltk\n",
      "  Downloading nltk-3.9.1-py3-none-any.whl.metadata (2.9 kB)\n",
      "Requirement already satisfied: click in /opt/conda/lib/python3.10/site-packages (from nltk) (8.1.7)\n",
      "Collecting joblib (from nltk)\n",
      "  Downloading joblib-1.4.2-py3-none-any.whl.metadata (5.4 kB)\n",
      "Collecting regex>=2021.8.3 (from nltk)\n",
      "  Downloading regex-2024.9.11-cp310-cp310-manylinux_2_17_x86_64.manylinux2014_x86_64.whl.metadata (40 kB)\n",
      "Requirement already satisfied: tqdm in /opt/conda/lib/python3.10/site-packages (from nltk) (4.66.2)\n",
      "Downloading nltk-3.9.1-py3-none-any.whl (1.5 MB)\n",
      "\u001b[2K   \u001b[90m━━━━━━━━━━━━━━━━━━━━━━━━━━━━━━━━━━━━━━━━\u001b[0m \u001b[32m1.5/1.5 MB\u001b[0m \u001b[31m12.2 MB/s\u001b[0m eta \u001b[36m0:00:00\u001b[0m\n",
      "\u001b[?25hDownloading regex-2024.9.11-cp310-cp310-manylinux_2_17_x86_64.manylinux2014_x86_64.whl (782 kB)\n",
      "\u001b[2K   \u001b[90m━━━━━━━━━━━━━━━━━━━━━━━━━━━━━━━━━━━━━━━━\u001b[0m \u001b[32m782.7/782.7 kB\u001b[0m \u001b[31m5.6 MB/s\u001b[0m eta \u001b[36m0:00:00\u001b[0m\n",
      "\u001b[?25hDownloading joblib-1.4.2-py3-none-any.whl (301 kB)\n",
      "Installing collected packages: regex, joblib, nltk\n",
      "Successfully installed joblib-1.4.2 nltk-3.9.1 regex-2024.9.11\n",
      "Note: you may need to restart the kernel to use updated packages.\n"
     ]
    }
   ],
   "source": [
    "# install the natural language toolkit package (nltk), which has a copy of several texts, \n",
    "#including the King James Bible\n",
    "\n",
    "%pip install nltk"
   ]
  },
  {
   "cell_type": "code",
   "execution_count": 1,
   "metadata": {},
   "outputs": [
    {
     "name": "stderr",
     "output_type": "stream",
     "text": [
      "[nltk_data] Downloading package gutenberg to /home/ucloud/nltk_data...\n",
      "[nltk_data]   Package gutenberg is already up-to-date!\n"
     ]
    },
    {
     "data": {
      "text/plain": [
       "True"
      ]
     },
     "execution_count": 1,
     "metadata": {},
     "output_type": "execute_result"
    }
   ],
   "source": [
    "# import the nltk package so that it is accessible to Python, and download a collection of texts from Project Gutenberg\n",
    "import nltk\n",
    "nltk.download('gutenberg')"
   ]
  },
  {
   "cell_type": "code",
   "execution_count": 4,
   "metadata": {},
   "outputs": [],
   "source": [
    "# Create a variable called \"bible\" which contains the text of the King James bible.\n",
    "bible = nltk.corpus.gutenberg.raw('bible-kjv.txt')\n",
    "\n",
    "# make all characters lowercase\n",
    "bible = bible.lower()\n",
    "\n",
    "# remove the \"\\n\" characters, which indicate line breaks in the text (newlines)\n",
    "bible = bible.replace('\\n', ' ')\n",
    "\n",
    "# split up the text into a long list of individual words\n",
    "bible = bible.split(' ')\n",
    "#bible"
   ]
  },
  {
   "cell_type": "code",
   "execution_count": 5,
   "metadata": {},
   "outputs": [],
   "source": [
    "# make a variable called \"concordance\", and fill it with every occurrence of the phrase \"this world\", and a few words preceeding and following \"this world\"\n",
    "concordance = []\n",
    "for i, val in enumerate(bible):\n",
    "    if val == \"world\":\n",
    "        if bible[i-1] == \"this\":\n",
    "            concordance.append(str(' '.join(bible[i-5:i+5])))"
   ]
  },
  {
   "cell_type": "code",
   "execution_count": 6,
   "metadata": {},
   "outputs": [
    {
     "data": {
      "text/plain": [
       "['for the children of this world are in their generation',\n",
       " 'them, the children of this world marry, and are given',\n",
       " 'hateth his life in this world shall keep it unto',\n",
       " 'shall the prince of this world be cast out. ',\n",
       " 'should depart out of this world unto the father, having',\n",
       " 'for the prince of this world cometh, and hath nothing',\n",
       " 'because the prince of this world is judged.  16:12',\n",
       " 'of the princes of this world knew: for had they',\n",
       " 'for the wisdom of this world is foolishness with god.',\n",
       " 'for the fashion of this world passeth away.  7:32',\n",
       " 'whom the god of this world hath blinded the minds',\n",
       " 'chosen the poor of this world rich in faith, and',\n",
       " 'saying, the kingdoms of this world are become the kingdoms']"
      ]
     },
     "execution_count": 6,
     "metadata": {},
     "output_type": "execute_result"
    }
   ],
   "source": [
    "# take a look at what the algorithm has found\n",
    "concordance"
   ]
  },
  {
   "cell_type": "code",
   "execution_count": 7,
   "metadata": {},
   "outputs": [
    {
     "data": {
      "text/plain": [
       "13"
      ]
     },
     "execution_count": 7,
     "metadata": {},
     "output_type": "execute_result"
    }
   ],
   "source": [
    "# let's see how many instances of the phrase \"this world\" were found\n",
    "len(concordance)\n"
   ]
  },
  {
   "cell_type": "markdown",
   "metadata": {},
   "source": [
    "Let's try again, but this time let's just search for \"world\" by itself, not \"this world\"."
   ]
  },
  {
   "cell_type": "code",
   "execution_count": 8,
   "metadata": {},
   "outputs": [],
   "source": [
    "concordance = []\n",
    "for i, val in enumerate(bible):\n",
    "    if val == \"world\":\n",
    "        concordance.append(str(' '.join(bible[i-5:i+5])))"
   ]
  },
  {
   "cell_type": "code",
   "execution_count": 9,
   "metadata": {},
   "outputs": [
    {
     "data": {
      "text/plain": [
       "['and he hath set the world upon them.  2:9',\n",
       " 'appeared, the foundations of the world were discovered, at the',\n",
       " 'him, all the earth: the world also shall be stable,',\n",
       " 'upon the face of the world in the earth. ',\n",
       " 'and he shall judge the world in righteousness, he shall',\n",
       " 'and the foundations of the world were discovered at thy',\n",
       " 'all the ends of the world shall remember and turn',\n",
       " 'all the inhabitants of the world stand in awe of',\n",
       " 'not tell thee: for the world is mine, and the',\n",
       " 'is thine: as for the world and the fulness thereof,',\n",
       " 'he hath girded himself: the world also is stablished, that',\n",
       " 'that the lord reigneth: the world also shall be established',\n",
       " 'earth: he shall judge the world with righteousness, and the',\n",
       " 'also he hath set the world in their heart, so',\n",
       " 'and i will punish the world for their evil, and',\n",
       " 'kingdoms; 14:17 that made the world as a wilderness, and',\n",
       " 'fill the face of the world with cities.  14:22',\n",
       " 'all the kingdoms of the world upon the face of',\n",
       " 'mourneth and fadeth away, the world languisheth and fadeth away,',\n",
       " 'earth, the inhabitants of the world will learn righteousness. ',\n",
       " 'have the inhabitants of the world fallen.  26:19 thy',\n",
       " 'fill the face of the world with fruit.  27:7',\n",
       " 'not be ashamed nor confounded world without end.  45:18',\n",
       " 'since the beginning of the world men have not heard,',\n",
       " 'power, he hath established the world by his wisdom, and',\n",
       " 'power, he hath established the world by his wisdom, and',\n",
       " 'this world, neither in the world to come.  12:33',\n",
       " ' 18:7 woe unto the world because of offences! for',\n",
       " 'be preached in all the world for a witness unto',\n",
       " 'since the beginning of the world to this time, no,',\n",
       " 'with persecutions; and in the world to come eternal life.',\n",
       " 'which have been since the world began: 1:71 that we',\n",
       " 'caesar augustus that all the world should be taxed. ',\n",
       " 'all the kingdoms of the world in a moment of',\n",
       " 'do the nations of the world seek after: and your',\n",
       " 'for the children of this world are in their generation',\n",
       " 'present time, and in the world to come life everlasting.',\n",
       " 'them, the children of this world marry, and are given',\n",
       " 'in the world, and the world was made by him,',\n",
       " 'made by him, and the world knew him not. ',\n",
       " 'not his son into the world to condemn the world;',\n",
       " 'the world; but that the world through him might be',\n",
       " 'alway ready.  7:7 the world cannot hate you; but',\n",
       " 'and i speak to the world those things which i',\n",
       " 'heareth.  9:32 since the world began was it not',\n",
       " 'ye prevail nothing? behold, the world is gone after him.',\n",
       " 'hateth his life in this world shall keep it unto',\n",
       " 'shall the prince of this world be cast out. ',\n",
       " 'should depart out of this world unto the father, having',\n",
       " 'spirit of truth; whom the world cannot receive, because it',\n",
       " 'a little while, and the world seeth me no more;',\n",
       " 'unto you: not as the world giveth, give i unto',\n",
       " 'for the prince of this world cometh, and hath nothing',\n",
       " ' 14:31 but that the world may know that i',\n",
       " 'another.  15:18 if the world hate you, ye know',\n",
       " 'were of the world, the world would love his own:',\n",
       " 'of the world, therefore the world hateth you.  15:20',\n",
       " 'come, he will reprove the world of sin, and of',\n",
       " 'because the prince of this world is judged.  16:12',\n",
       " 'weep and lament, but the world shall rejoice: and ye',\n",
       " 'have peace.  in the world ye shall have tribulation:',\n",
       " 'had with thee before the world was.  17:6 i',\n",
       " 'them thy word; and the world hath hated them, because',\n",
       " 'one in us: that the world may believe that thou',\n",
       " 'in one; and that the world may know that thou',\n",
       " '17:25 o righteous father, the world hath not known thee:',\n",
       " 'i suppose that even the world itself could not contain',\n",
       " 'his holy prophets since the world began.  3:22 for',\n",
       " 'these that have turned the world upside down are come',\n",
       " '17:24 god that made the world and all things therein,',\n",
       " 'which he will judge the world in righteousness by that',\n",
       " 'whom all asia and the world worshippeth.  19:28 and',\n",
       " 'from the creation of the world are clearly seen, being',\n",
       " 'be stopped, and all the world may become guilty before',\n",
       " 'was kept secret since the world began, 16:26 but now',\n",
       " 'the wisdom of god the world by wisdom knew not',\n",
       " 'the foolish things of the world to confound the wise;',\n",
       " 'the weak things of the world to confound the things',\n",
       " 'which god ordained before the world unto our glory: 2:8',\n",
       " 'of the princes of this world knew: for had they',\n",
       " 'for the wisdom of this world is foolishness with god.',\n",
       " 'the world? and if the world shall be judged by',\n",
       " 'for the fashion of this world passeth away.  7:32',\n",
       " 'eat no flesh while the world standeth, lest i make',\n",
       " 'whom the ends of the world are come.  10:12',\n",
       " 'whom the god of this world hath blinded the minds',\n",
       " 'was in christ, reconciling the world unto himself, not imputing',\n",
       " 'but the sorrow of the world worketh death.  7:11',\n",
       " 'jesus christ, by whom the world is crucified unto me,',\n",
       " 'from the beginning of the world hath been hid in',\n",
       " 'christ jesus throughout all ages, world without end. amen. ',\n",
       " 'christ jesus came into the world to save sinners; of',\n",
       " 'in christ jesus before the world began, 1:10 but is',\n",
       " 'cannot lie, promised before the world began; 1:3 but hath',\n",
       " 'not put in subjection the world to come, whereof we',\n",
       " 'and the powers of the world to come, 6:6 if',\n",
       " 'in the end of the world hath he appeared to',\n",
       " 'tormented; 11:38 (of whom the world was not worthy:) they',\n",
       " 'chosen the poor of this world rich in faith, and',\n",
       " 'tongue is a fire, a world of iniquity: so is',\n",
       " 'that the friendship of the world is enmity with god?',\n",
       " 'be a friend of the world is the enemy of',\n",
       " 'corruption that is in the world through lust.  1:5',\n",
       " 'in the flood upon the world of the ungodly; 2:6',\n",
       " 'escaped the pollutions of the world through the knowledge of',\n",
       " 'the water: 3:6 whereby the world that then was, being',\n",
       " 'world.  2:17 and the world passeth away, and the',\n",
       " 'sons of god: therefore the world knoweth us not, because',\n",
       " 'not, my brethren, if the world hate you.  3:14',\n",
       " 'of the world, and the world heareth them.  4:6',\n",
       " 'of god, and the whole world lieth in wickedness. ',\n",
       " 'saying, the kingdoms of this world are become the kingdoms',\n",
       " 'was healed: and all the world wondered after the beast.']"
      ]
     },
     "execution_count": 9,
     "metadata": {},
     "output_type": "execute_result"
    }
   ],
   "source": [
    "# take a look at what the algorithm has found\n",
    "concordance"
   ]
  },
  {
   "cell_type": "code",
   "execution_count": 10,
   "metadata": {},
   "outputs": [
    {
     "data": {
      "text/plain": [
       "113"
      ]
     },
     "execution_count": 10,
     "metadata": {},
     "output_type": "execute_result"
    }
   ],
   "source": [
    "# let's see how many instances of just the word \"world\" were found\n",
    "len(concordance)"
   ]
  },
  {
   "cell_type": "markdown",
   "metadata": {},
   "source": [
    "Now, in the cell below, modify the code to search for a different word."
   ]
  },
  {
   "cell_type": "code",
   "execution_count": 19,
   "metadata": {},
   "outputs": [],
   "source": [
    "# add your modified code here and run the cell...\n",
    "concordance2 = []\n",
    "for i, val in enumerate(bible):\n",
    "    if val == \"slay\":\n",
    "        concordance2.append(str(' '.join(bible[i-5:i+5])))"
   ]
  },
  {
   "cell_type": "code",
   "execution_count": 21,
   "metadata": {},
   "outputs": [
    {
     "data": {
      "text/plain": [
       "['one that findeth me shall slay me.  4:15 and',\n",
       " 'do after this manner, to slay the righteous with the',\n",
       " 'he said, lord, wilt thou slay also a righteous nation?',\n",
       " \"this place; and they will slay me for my wife's\",\n",
       " 'and took the knife to slay his son.  22:11',\n",
       " 'at hand; then will i slay my brother jacob. ',\n",
       " 'themselves together against me, and slay me; and i shall',\n",
       " 'they conspired against him to slay him.  37:19 and',\n",
       " 'now therefore, and let us slay him, and cast him',\n",
       " 'profit is it if we slay our brother, and conceal',\n",
       " 'spake unto his father, saying, slay my two sons, if',\n",
       " 'this thing, he sought to slay moses. but moses fled',\n",
       " 'him go, behold, i will slay thy son, even thy',\n",
       " 'sword in their hand to slay us.  5:22 and',\n",
       " 'presumptuously upon his neighbour, to slay him with guile; thou',\n",
       " 'and the innocent and righteous slay thou not: for i',\n",
       " ' 29:16 and thou shalt slay the ram, and thou',\n",
       " 'he bring them out, to slay them in the mountains,',\n",
       " 'gate throughout the camp, and slay every man his brother,',\n",
       " 'of the sin offering, and slay the sin offering in',\n",
       " 'of the sin offering, and slay it for a sin',\n",
       " 'lord: 14:13 and he shall slay the lamb in the',\n",
       " 'to death: and ye shall slay the beast.  20:16',\n",
       " 'the camp, and one shall slay her before his face:',\n",
       " 'unto the judges of israel, slay ye every one his',\n",
       " 'revenger of blood himself shall slay the murderer: when he',\n",
       " 'he meeteth him, he shall slay him.  35:20 but',\n",
       " 'the revenger of blood shall slay the murderer, when he',\n",
       " 'hath brought them out to slay them in the wilderness.',\n",
       " 'the way is long, and slay him; whereas he was',\n",
       " 'he that taketh reward to slay an innocent person. and',\n",
       " 'did the children of israel slay with the sword among',\n",
       " 'them alive, i would not slay you.  8:20 and',\n",
       " 'jether his firstborn, up, and slay them. but the youth',\n",
       " 'him, draw thy sword, and slay me, that men say',\n",
       " 'father, because the lord would slay them.  2:26 and',\n",
       " 'of israel to us, to slay us and our people.',\n",
       " 'his own place, that it slay us not, and our',\n",
       " 'every man his sheep, and slay them here, and eat;',\n",
       " 'and spare them not; but slay both man and woman,',\n",
       " 'sin against innocent blood, to slay david without a cause?',\n",
       " 'to watch him, and to slay him in the morning:',\n",
       " 'the bed, that i may slay him.  19:16 and',\n",
       " 'there be in me iniquity, slay me thyself; for why',\n",
       " 'determined of his father to slay david.  20:34 so',\n",
       " 'stood about him, turn, and slay the priests of the',\n",
       " 'pray thee, upon me, and slay me: for anguish is',\n",
       " 'not of the king to slay abner the son of',\n",
       " 'them: and saul sought to slay them in his zeal',\n",
       " 'today that he will not slay his servant with the',\n",
       " 'child, and in no wise slay it. but the other',\n",
       " 'child, and in no wise slay it: she is the',\n",
       " 'king of judah did baasha slay him, and reigned in',\n",
       " 'sin to remembrance, and to slay my son?  17:19',\n",
       " 'the hand of ahab, to slay me?  18:10 as',\n",
       " 'cannot find thee, he shall slay me: but i thy',\n",
       " 'is here: and he shall slay me.  18:15 and',\n",
       " 'from me, a lion shall slay thee.  and as',\n",
       " 'their young men wilt thou slay with the sword, and',\n",
       " 'the captains, go in, and slay them; let none come',\n",
       " 'among them, and, behold, they slay them, because they know',\n",
       " 'of mount seir, utterly to slay and destroy them: and',\n",
       " 'sword. for the priest said, slay her not in the',\n",
       " 'the midst among them, and slay them, and cause the',\n",
       " 'for they will come to slay thee; yea, in the',\n",
       " 'night will they come to slay thee.  6:11 and',\n",
       " 'their life, to destroy, to slay and to cause to',\n",
       " ' 9:23 if the scourge slay suddenly, he will laugh',\n",
       " 'hand?  13:15 though he slay me, yet will i',\n",
       " \"asps: the viper's tongue shall slay him.  20:17 he\",\n",
       " 'broken.  34:21 evil shall slay the wicked: and they',\n",
       " 'poor and needy, and to slay such as be of',\n",
       " 'the righteous, and seeketh to slay him.  37:33 the',\n",
       " 'upon mine enemies.  59:11 slay them not, lest my',\n",
       " 'thine heritage.  94:6 they slay the widow and the',\n",
       " 'man, that he might even slay the broken in heart.',\n",
       " ' 139:19 surely thou wilt slay the wicked, o god:',\n",
       " 'away of the simple shall slay them, and the prosperity',\n",
       " 'of his lips shall he slay the wicked.  11:5',\n",
       " 'with famine, and he shall slay thy remnant.  14:31',\n",
       " 'crooked serpent; and he shall slay the dragon that is',\n",
       " 'for the lord god shall slay thee, and call his',\n",
       " 'out of the forest shall slay them, and a wolf',\n",
       " 'their counsel against me to slay me: forgive not their',\n",
       " 'captive into babylon, and shall slay them with the sword.',\n",
       " 'of babylon; and he shall slay them before your eyes;',\n",
       " 'the son of nethaniah to slay thee? but gedaliah the',\n",
       " 'pray thee, and i will slay ishmael the son of',\n",
       " 'know it: wherefore should he slay thee, that all the',\n",
       " 'them that said unto ishmael, slay us not: for we',\n",
       " 'her be left.  50:27 slay all her bullocks; let',\n",
       " 'neither have ye pity: 9:6 slay utterly old and young,',\n",
       " 'for pieces of bread, to slay the souls that should',\n",
       " 'with their swords; they shall slay their sons and their',\n",
       " 'people.  26:8 he shall slay with the sword thy',\n",
       " 'all thy streets: he shall slay thy people by the',\n",
       " 'tables on that side, to slay thereon the burnt offering',\n",
       " 'to the house: they shall slay the burnt offering and',\n",
       " 'which was gone forth to slay the wise men of',\n",
       " 'like a dry land, and slay her with thirst. ',\n",
       " 'bring forth, yet will i slay even the beloved fruit',\n",
       " 'the midst thereof, and will slay all the princes thereof',\n",
       " 'of them; and i will slay the last of them',\n",
       " 'the sword, and it shall slay them: and i will',\n",
       " 'and not spare continually to slay the nations?  2:1',\n",
       " 'the slaughter; 11:5 whose possessors slay them, and hold themselves',\n",
       " 'some of them they shall slay and persecute: 11:50 that',\n",
       " 'over them, bring hither, and slay them before me. ',\n",
       " 'persecute jesus, and sought to slay him, because he had',\n",
       " 'heart, and took counsel to slay them.  5:34 then',\n",
       " 'but they went about to slay him.  9:30 which',\n",
       " 'saying unto me, arise, peter; slay and eat.  11:8',\n",
       " 'and a year, for to slay the third part of']"
      ]
     },
     "execution_count": 21,
     "metadata": {},
     "output_type": "execute_result"
    }
   ],
   "source": [
    "concordance2"
   ]
  },
  {
   "cell_type": "code",
   "execution_count": 20,
   "metadata": {},
   "outputs": [
    {
     "data": {
      "text/plain": [
       "113"
      ]
     },
     "execution_count": 20,
     "metadata": {},
     "output_type": "execute_result"
    }
   ],
   "source": [
    "len(concordance2)"
   ]
  },
  {
   "cell_type": "markdown",
   "metadata": {},
   "source": [
    "The nltk package has the full text of several other classic books. You can see what they are called by running the command in the cell below:"
   ]
  },
  {
   "cell_type": "code",
   "execution_count": 22,
   "metadata": {},
   "outputs": [
    {
     "data": {
      "text/plain": [
       "['austen-emma.txt',\n",
       " 'austen-persuasion.txt',\n",
       " 'austen-sense.txt',\n",
       " 'bible-kjv.txt',\n",
       " 'blake-poems.txt',\n",
       " 'bryant-stories.txt',\n",
       " 'burgess-busterbrown.txt',\n",
       " 'carroll-alice.txt',\n",
       " 'chesterton-ball.txt',\n",
       " 'chesterton-brown.txt',\n",
       " 'chesterton-thursday.txt',\n",
       " 'edgeworth-parents.txt',\n",
       " 'melville-moby_dick.txt',\n",
       " 'milton-paradise.txt',\n",
       " 'shakespeare-caesar.txt',\n",
       " 'shakespeare-hamlet.txt',\n",
       " 'shakespeare-macbeth.txt',\n",
       " 'whitman-leaves.txt']"
      ]
     },
     "execution_count": 22,
     "metadata": {},
     "output_type": "execute_result"
    }
   ],
   "source": [
    "nltk.corpus.gutenberg.fileids()"
   ]
  },
  {
   "cell_type": "markdown",
   "metadata": {},
   "source": [
    "## Your turn!\n",
    "\n",
    "Here are a some more things you can try. In each case, I have given you a little bit of starter code to get you going, but the cells will not run without some additional code from you.\n"
   ]
  },
  {
   "cell_type": "markdown",
   "metadata": {},
   "source": [
    "\n",
    "\n",
    "## Challenge 1: build your own concordance\n",
    "\n",
    "Pick a different book and a different word, or pair of words. Copy and paste from the code above to write some Python code that searches the book of your choice for the word or pair of words of your choice. Put this code in the cell below. By the way, some of the texts use the characters \"\\r\" for \"carriage return\" instead of \"\\n\" for \"newline\". You can remove these the same way that you remove the \"\\n\" characters."
   ]
  },
  {
   "cell_type": "code",
   "execution_count": 42,
   "metadata": {},
   "outputs": [],
   "source": [
    "# add your code to search for a word or pair of words in a different book here\n",
    "#shakespeare-macbeth.txt\n",
    "# Create a variable called \"macbeth\" which contains the text of macbeth.\n",
    "macbeth = nltk.corpus.gutenberg.raw('shakespeare-macbeth.txt')\n",
    "\n",
    "# make all characters lowercase\n",
    "macbeth = macbeth.lower()\n",
    "\n",
    "# remove the \"\\n\" characters, which indicate line breaks in the text (newlines)\n",
    "macbeth = macbeth.replace('\\n', ' ')\n",
    "\n",
    "# split up the text into a long list of individual words\n",
    "macbeth = macbeth.split(' ')\n",
    "#macbeth"
   ]
  },
  {
   "cell_type": "code",
   "execution_count": 76,
   "metadata": {},
   "outputs": [],
   "source": [
    "concordance3 = []\n",
    "for i, val in enumerate(macbeth):\n",
    "    if val == \"bloody\":\n",
    "        concordance3.append(str(' '.join(macbeth[i-5:i+5])))"
   ]
  },
  {
   "cell_type": "code",
   "execution_count": 77,
   "metadata": {},
   "outputs": [
    {
     "data": {
      "text/plain": [
       "13"
      ]
     },
     "execution_count": 77,
     "metadata": {},
     "output_type": "execute_result"
    }
   ],
   "source": [
    "len(concordance3)"
   ]
  },
  {
   "cell_type": "markdown",
   "metadata": {},
   "source": [
    "## Challenge 2: compare lengths of books\n",
    "\n",
    "We can use the command `len` to find how many items there are in a list. E.g., to find the number of words in the list called `bible`, above, we can write: `len(bible)`. \n",
    "\n",
    "Use the starter code below to find out which book in the books included in `nltk` has the most words."
   ]
  },
  {
   "cell_type": "code",
   "execution_count": 110,
   "metadata": {},
   "outputs": [
    {
     "name": "stdout",
     "output_type": "stream",
     "text": [
      "austen-emma.txt : 887071\n",
      "austen-persuasion.txt : 466292\n",
      "austen-sense.txt : 673022\n",
      "bible-kjv.txt : 4332554\n",
      "blake-poems.txt : 38153\n",
      "bryant-stories.txt : 249439\n",
      "burgess-busterbrown.txt : 84663\n",
      "carroll-alice.txt : 144395\n",
      "chesterton-ball.txt : 457450\n",
      "chesterton-brown.txt : 406629\n",
      "chesterton-thursday.txt : 320525\n",
      "edgeworth-parents.txt : 935158\n",
      "melville-moby_dick.txt : 1242990\n",
      "milton-paradise.txt : 468220\n",
      "shakespeare-caesar.txt : 112310\n",
      "shakespeare-hamlet.txt : 162881\n",
      "shakespeare-macbeth.txt : 100351\n",
      "whitman-leaves.txt : 711215\n"
     ]
    }
   ],
   "source": [
    "# solution 1: print all the titles and numbers of words\n",
    "# starter code:\n",
    "\n",
    "books = nltk.corpus.gutenberg.fileids()\n",
    "\n",
    "\n",
    "for title in books:\n",
    "    book = nltk.corpus.gutenberg.raw(title)\n",
    "    print(title ,\":\", len(book)) \n"
   ]
  },
  {
   "cell_type": "code",
   "execution_count": 97,
   "metadata": {},
   "outputs": [
    {
     "data": {
      "text/plain": [
       "887071"
      ]
     },
     "execution_count": 97,
     "metadata": {},
     "output_type": "execute_result"
    }
   ],
   "source": [
    "austen = nltk.corpus.gutenberg.raw('austen-emma.txt')\n",
    "len(auster"
   ]
  },
  {
   "cell_type": "code",
   "execution_count": null,
   "metadata": {},
   "outputs": [],
   "source": [
    "# more advanced, for those with some Python experience, or those who want to google around..\n",
    "# solution 2: make a list of titles and a list of wordcounts, zip them together, then sort them based on wordcount\n",
    "# starter code:\n",
    "\n",
    "books = nltk.corpus.gutenberg.fileids()\n",
    "\n",
    "titles = []\n",
    "numwords = []\n",
    "for title in books:\n",
    "    book = nltk.corpus.gutenberg.raw(title)\n"
   ]
  },
  {
   "cell_type": "markdown",
   "metadata": {},
   "source": [
    "## Challenge 3: what are the most frequent words?\n",
    "\n",
    "`nltk` has a built-in function called `FreqDist` which counts up how many times each word in a text occurs. So, if you have a list called `words` which contains all the words in a book, you can find the frequencies of all of them by writing `freq = nltk.FreqDist(words)`. You can then get the e.g. ten most common words by writing `freq.most_common(10)`. What are the ten most common words in Jane Austen's \"Emma\"? What about Herman Melville's \"Moby Dick\"?"
   ]
  },
  {
   "cell_type": "code",
   "execution_count": 115,
   "metadata": {},
   "outputs": [
    {
     "data": {
      "text/plain": [
       "[('', 2423),\n",
       " ('the', 645),\n",
       " ('and', 544),\n",
       " ('to', 383),\n",
       " ('of', 337),\n",
       " ('i', 314),\n",
       " ('a', 238),\n",
       " ('that', 220),\n",
       " ('my', 201),\n",
       " ('in', 195)]"
      ]
     },
     "execution_count": 115,
     "metadata": {},
     "output_type": "execute_result"
    }
   ],
   "source": [
    "# starter code:\n",
    "# Create a variable called \"macbeth\" which contains the text of macbeth.\n",
    "emma = nltk.corpus.gutenberg.raw('austen-emma.txt')\n",
    "mobydick = nltk.corpus.gutenberg.raw('melville-moby_dick.txt')\n",
    "\n",
    "# make all characters lowercase\n",
    "emma = emma.lower()\n",
    "mobydick = mobydick.lower()\n",
    "\n",
    "# remove the \"\\n\" characters, which indicate line breaks in the text (newlines)\n",
    "emma = emma.replace('\\n', ' ')\n",
    "mobydick = mobydick.replace('\\n', ' ')\n",
    "mobydick = mobydick.replace('\\r', ' ')\n",
    "\n",
    "# split up the text into a long list of individual words\n",
    "emma = emma.split(' ')\n",
    "mobydick = mobydick.split(' ')\n",
    "\n",
    "freq1 = nltk.FreqDist(emma)\n",
    "freq.most_common(10)\n"
   ]
  },
  {
   "cell_type": "code",
   "execution_count": 116,
   "metadata": {},
   "outputs": [
    {
     "data": {
      "text/plain": [
       "[('', 31917),\n",
       " ('the', 14226),\n",
       " ('of', 6545),\n",
       " ('and', 6238),\n",
       " ('a', 4597),\n",
       " ('to', 4518),\n",
       " ('in', 4058),\n",
       " ('that', 2744),\n",
       " ('his', 2485),\n",
       " ('it', 1765)]"
      ]
     },
     "execution_count": 116,
     "metadata": {},
     "output_type": "execute_result"
    }
   ],
   "source": [
    "freq2 = nltk.FreqDist(mobydick)\n",
    "freq2.most_common(10)"
   ]
  },
  {
   "cell_type": "markdown",
   "metadata": {},
   "source": [
    "## Challenge 4: Remove stopwords\n",
    "\n",
    "Often, the most frequent words are not the most interesting ones. Words like \"a\" and \"the\" are so common in English, that they don't really tell us much about the text. That is why we often remove \"stopwords\", that is, a list of the most common words in English, before e.g. counting frequencies. There are several of these lists available, in [English]((https://gist.github.com/sebleier/554280)) as well as other languages, such as [Danish](https://gist.github.com/berteltorp/0cf8a0c7afea7f25ed754f24cfc2467b). Below is some starter code to remove stopwords. Use these snippets to see what the most common words in Emma and Moby Dick are after removing these most common words.\n",
    "\n",
    "Hint: In Moby Dick, you will also have to remove the string `\\r`, in addition to removing `\\n`."
   ]
  },
  {
   "cell_type": "code",
   "execution_count": 111,
   "metadata": {},
   "outputs": [],
   "source": [
    "# list of stopwords\n",
    "\n",
    "stopwords = [\"\", \"i\", \"me\", \"my\", \"myself\", \"we\", \"our\", \"ours\", \"ourselves\", \"you\", \"your\", \"yours\", \"yourself\", \"yourselves\", \"he\", \"him\", \"his\", \"himself\", \"she\", \"her\", \"hers\", \"herself\", \"it\", \"its\", \"itself\", \"they\", \"them\", \"their\", \"theirs\", \"themselves\", \"what\", \"which\", \"who\", \"whom\", \"this\", \"that\", \"these\", \"those\", \"am\", \"is\", \"are\", \"was\", \"were\", \"be\", \"been\", \"being\", \"have\", \"has\", \"had\", \"having\", \"do\", \"does\", \"did\", \"doing\", \"a\", \"an\", \"the\", \"and\", \"but\", \"if\", \"or\", \"because\", \"as\", \"until\", \"while\", \"of\", \"at\", \"by\", \"for\", \"with\", \"about\", \"against\", \"between\", \"into\", \"through\", \"during\", \"before\", \"after\", \"above\", \"below\", \"to\", \"from\", \"up\", \"down\", \"in\", \"out\", \"on\", \"off\", \"over\", \"under\", \"again\", \"further\", \"then\", \"once\", \"here\", \"there\", \"when\", \"where\", \"why\", \"how\", \"all\", \"any\", \"both\", \"each\", \"few\", \"more\", \"most\", \"other\", \"some\", \"such\", \"no\", \"nor\", \"not\", \"only\", \"own\", \"same\", \"so\", \"than\", \"too\", \"very\", \"s\", \"t\", \"can\", \"will\", \"just\", \"don\", \"should\", \"now\"]"
   ]
  },
  {
   "cell_type": "code",
   "execution_count": 118,
   "metadata": {},
   "outputs": [],
   "source": [
    "# starter code:\n",
    "\n",
    "#book = nltk.corpus.gutenberg.raw('austen-emma.txt')\n",
    "#words = book.lower()\n",
    "\n",
    "\n",
    "# code to remove stopwords.\n",
    "emma = [word for word in emma if word not in stopwords]\n",
    "mobydick = [word for word in mobydick if word not in stopwords]\n",
    "\n"
   ]
  },
  {
   "cell_type": "code",
   "execution_count": 119,
   "metadata": {},
   "outputs": [
    {
     "data": {
      "text/plain": [
       "[('mr.', 1097),\n",
       " ('could', 800),\n",
       " ('would', 795),\n",
       " ('mrs.', 675),\n",
       " ('miss', 568),\n",
       " ('must', 543),\n",
       " ('emma', 481),\n",
       " ('much', 427),\n",
       " ('every', 425),\n",
       " ('said', 392)]"
      ]
     },
     "execution_count": 119,
     "metadata": {},
     "output_type": "execute_result"
    }
   ],
   "source": [
    "freq = nltk.FreqDist(emma)\n",
    "freq.most_common(10)"
   ]
  },
  {
   "cell_type": "code",
   "execution_count": 114,
   "metadata": {},
   "outputs": [
    {
     "data": {
      "text/plain": [
       "[('one', 779),\n",
       " ('like', 564),\n",
       " ('upon', 556),\n",
       " ('whale', 528),\n",
       " ('old', 425),\n",
       " ('would', 416),\n",
       " ('though', 311),\n",
       " ('great', 292),\n",
       " ('still', 282),\n",
       " ('seemed', 273)]"
      ]
     },
     "execution_count": 114,
     "metadata": {},
     "output_type": "execute_result"
    }
   ],
   "source": [
    "freq2 = nltk.FreqDist(mobydick)\n",
    "freq2.most_common(10)"
   ]
  },
  {
   "cell_type": "code",
   "execution_count": null,
   "metadata": {},
   "outputs": [],
   "source": []
  }
 ],
 "metadata": {
  "kernelspec": {
   "display_name": "Python 3 ",
   "language": "python",
   "name": "python3"
  },
  "language_info": {
   "codemirror_mode": {
    "name": "ipython",
    "version": 3
   },
   "file_extension": ".py",
   "mimetype": "text/x-python",
   "name": "python",
   "nbconvert_exporter": "python",
   "pygments_lexer": "ipython3",
   "version": "3.10.14"
  }
 },
 "nbformat": 4,
 "nbformat_minor": 4
}

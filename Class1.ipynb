{
 "cells": [
  {
   "cell_type": "code",
   "execution_count": null,
   "id": "84dd4a23-01ef-4d70-8b5b-7f935813617a",
   "metadata": {},
   "outputs": [],
   "source": [
    "print(\"Is this the real world or is this just fantasy?\")"
   ]
  },
  {
   "cell_type": "code",
   "execution_count": null,
   "id": "00811a81-8d95-4cfb-9744-c9a49018c9f3",
   "metadata": {},
   "outputs": [],
   "source": [
    "import random\n",
    "number = random.randint(1, 10)\n",
    "print(number)"
   ]
  },
  {
   "cell_type": "code",
   "execution_count": null,
   "id": "55c111f6-83fb-4982-a8e1-73d2e1ee1198",
   "metadata": {},
   "outputs": [],
   "source": [
    "if (number % 2) == 0:\n",
    "    print (\"It is in fact real.\")\n",
    "else:\n",
    "    print (\"Of course it's fantasy, what else could it be.\")"
   ]
  }
 ],
 "metadata": {
  "kernelspec": {
   "display_name": "Python 3 ",
   "language": "python",
   "name": "python3"
  },
  "language_info": {
   "codemirror_mode": {
    "name": "ipython",
    "version": 3
   },
   "file_extension": ".py",
   "mimetype": "text/x-python",
   "name": "python",
   "nbconvert_exporter": "python",
   "pygments_lexer": "ipython3",
   "version": "3.10.14"
  }
 },
 "nbformat": 4,
 "nbformat_minor": 5
}
